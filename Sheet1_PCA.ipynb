{
 "cells": [
  {
   "cell_type": "markdown",
   "metadata": {},
   "source": [
    "## Data Matrix \n",
    "-  4 dimensions\n",
    "-  integer attributes"
   ]
  },
  {
   "cell_type": "code",
   "execution_count": 1,
   "metadata": {
    "collapsed": true
   },
   "outputs": [],
   "source": [
    "# imports and matrix definition\n",
    "\n",
    "import numpy as np\n",
    "import matplotlib.pyplot as plt\n",
    "from sklearn.metrics.pairwise import cosine_similarity\n",
    "from sklearn.metrics.pairwise import euclidean_distances\n",
    "from mpl_toolkits.mplot3d import Axes3D\n",
    "%matplotlib inline\n",
    "\n",
    "D = np.array([[10,60,10,90],\n",
    "              [20,50,40,70],\n",
    "              [30,50,30,40],\n",
    "              [20,50,20,60],\n",
    "              [10,60,30,10]])\n",
    "\n",
    "# set formatting options\n",
    "float_formatter = lambda x: \"%.2f\" % x\n",
    "np.set_printoptions(formatter={'float_kind':float_formatter})\n"
   ]
  },
  {
   "cell_type": "code",
   "execution_count": 2,
   "metadata": {},
   "outputs": [
    {
     "name": "stdout",
     "output_type": "stream",
     "text": [
      "distance between x1 and x3 = 58.31\n"
     ]
    }
   ],
   "source": [
    "# c\n",
    "dist_1_3 = np.sqrt((D[0]-D[2]).dot((D[0]-D[2]).T))\n",
    "print(f'distance between x1 and x3 = {float_formatter(dist_1_3)}')\n"
   ]
  },
  {
   "cell_type": "code",
   "execution_count": 3,
   "metadata": {},
   "outputs": [
    {
     "name": "stdout",
     "output_type": "stream",
     "text": [
      "length of x2 = 96.95\n"
     ]
    }
   ],
   "source": [
    "# d\n",
    "len_2 = np.sqrt(D[1].dot(D[1].T))\n",
    "print(f'length of x2 = {float_formatter(len_2)}')"
   ]
  },
  {
   "cell_type": "code",
   "execution_count": 4,
   "metadata": {},
   "outputs": [
    {
     "name": "stdout",
     "output_type": "stream",
     "text": [
      "cos angle between x2 and x4 = 0.98\n"
     ]
    }
   ],
   "source": [
    "# e\n",
    "cos_2_4 = (D[1].dot(D[3]))/(np.linalg.norm(D[1])*np.linalg.norm(D[3]))\n",
    "print(f'cos angle between x2 and x4 = {float_formatter(cos_2_4)}')"
   ]
  },
  {
   "cell_type": "markdown",
   "metadata": {},
   "source": [
    "-  we don't need attribute scaling since the data all features seem to lie in the range (10,90)"
   ]
  },
  {
   "cell_type": "code",
   "execution_count": 5,
   "metadata": {},
   "outputs": [
    {
     "name": "stdout",
     "output_type": "stream",
     "text": [
      "normmalized D =\n",
      " [[0.00 1.00 0.00 1.00]\n",
      " [0.50 0.00 1.00 0.75]\n",
      " [1.00 0.00 0.67 0.38]\n",
      " [0.50 0.00 0.33 0.62]\n",
      " [0.00 1.00 0.67 0.00]]\n"
     ]
    }
   ],
   "source": [
    "# g\n",
    "col_wise_max = np.max(D, axis=0, keepdims=True)\n",
    "col_wise_min = np.min(D, axis=0, keepdims=True)\n",
    "D_norm = (D-col_wise_min)/(col_wise_max-col_wise_min)\n",
    "print(f'normmalized D =\\n {D_norm}')"
   ]
  },
  {
   "cell_type": "code",
   "execution_count": 6,
   "metadata": {},
   "outputs": [
    {
     "name": "stdout",
     "output_type": "stream",
     "text": [
      "distance between x1 and x3 = 1.68\n",
      "length of x2 = 1.35\n",
      "cos angle between x2 and x4 = 0.90\n"
     ]
    }
   ],
   "source": [
    "# h\n",
    "\n",
    "# c repeated\n",
    "dist_1_3 = np.sqrt((D_norm[0]-D_norm[2]).dot((D_norm[0]-D_norm[2]).T))\n",
    "print(f'distance between x1 and x3 = {float_formatter(dist_1_3)}')\n",
    "\n",
    "\n",
    "# d repeated\n",
    "len_2 = np.sqrt(D_norm[1].dot(D_norm[1].T))\n",
    "print(f'length of x2 = {float_formatter(len_2)}')\n",
    "\n",
    "# e repeated\n",
    "cos_2_4 = (D_norm[1].dot(D_norm[3]))/(np.linalg.norm(D_norm[1])*np.linalg.norm(D_norm[3]))\n",
    "print(f'cos angle between x2 and x4 = {float_formatter(cos_2_4)}')\n",
    "\n"
   ]
  },
  {
   "cell_type": "markdown",
   "metadata": {},
   "source": [
    "### part 2"
   ]
  },
  {
   "cell_type": "code",
   "execution_count": 7,
   "metadata": {},
   "outputs": [
    {
     "name": "stdout",
     "output_type": "stream",
     "text": [
      "norm per instance = \n",
      "[[109.09]\n",
      " [96.95]\n",
      " [76.81]\n",
      " [83.07]\n",
      " [68.56]]\n"
     ]
    }
   ],
   "source": [
    "# a\n",
    "norm_row_wise = np.linalg.norm(D, axis=1, keepdims=True)\n",
    "print(f'norm per instance = \\n{norm_row_wise}')\n"
   ]
  },
  {
   "cell_type": "code",
   "execution_count": 8,
   "metadata": {},
   "outputs": [
    {
     "name": "stdout",
     "output_type": "stream",
     "text": [
      "cosine similarity = \n",
      "[[1.00 0.94 0.86 0.97 0.66]\n",
      " [0.94 1.00 0.95 0.98 0.77]\n",
      " [0.86 0.95 1.00 0.96 0.87]\n",
      " [0.97 0.98 0.96 1.00 0.77]\n",
      " [0.66 0.77 0.87 0.77 1.00]]\n"
     ]
    },
    {
     "data": {
      "image/png": "[encoded data removed]",
      "text/plain": [
       "<matplotlib.figure.Figure at 0x7fc9b03bd438>"
      ]
     },
     "metadata": {},
     "output_type": "display_data"
    }
   ],
   "source": [
    "# b\n",
    "sim_mat = cosine_similarity(D)\n",
    "print(f'cosine similarity = \\n{sim_mat}')\n",
    "plt.imshow(sim_mat)\n",
    "plt.show()"
   ]
  },
  {
   "cell_type": "code",
   "execution_count": 9,
   "metadata": {},
   "outputs": [
    {
     "name": "stdout",
     "output_type": "stream",
     "text": [
      "euclidean matrix = \n",
      "[[0.00 38.73 58.31 34.64 82.46]\n",
      " [38.73 0.00 33.17 22.36 62.45]\n",
      " [58.31 33.17 0.00 24.49 37.42]\n",
      " [34.64 22.36 24.49 0.00 52.92]\n",
      " [82.46 62.45 37.42 52.92 0.00]]\n"
     ]
    },
    {
     "data": {
      "image/png": "[encoded data removed]",
      "text/plain": [
       "<matplotlib.figure.Figure at 0x7fc97d3415c0>"
      ]
     },
     "metadata": {},
     "output_type": "display_data"
    }
   ],
   "source": [
    "# c\n",
    "euc_mat = euclidean_distances(D)\n",
    "print(f'euclidean matrix = \\n{euc_mat}')\n",
    "plt.imshow(euc_mat)\n",
    "plt.show()"
   ]
  },
  {
   "cell_type": "markdown",
   "metadata": {},
   "source": [
    "## PCA\n",
    "### part 3"
   ]
  },
  {
   "cell_type": "code",
   "execution_count": 10,
   "metadata": {},
   "outputs": [
    {
     "name": "stdout",
     "output_type": "stream",
     "text": [
      "D3 = \n",
      " [[10 60 90]\n",
      " [20 50 70]\n",
      " [30 50 40]\n",
      " [20 50 60]\n",
      " [10 60 10]]\n"
     ]
    }
   ],
   "source": [
    "# a\n",
    "D3 = D[:,[0,1,3]]\n",
    "print(f'D3 = \\n {D3}')"
   ]
  },
  {
   "cell_type": "code",
   "execution_count": 11,
   "metadata": {},
   "outputs": [
    {
     "data": {
      "image/png": "[encoded data removed]",
      "text/plain": [
       "<matplotlib.figure.Figure at 0x7fc97d2e3780>"
      ]
     },
     "metadata": {},
     "output_type": "display_data"
    }
   ],
   "source": [
    "def plot_3d(mat):    \n",
    "    fig = plt.figure()\n",
    "    ax = fig.add_subplot(111, projection='3d')\n",
    "    ax.scatter(mat[:,0],mat[:,1],mat[:,2])\n",
    "\n",
    "plot_3d(D3)"
   ]
  },
  {
   "cell_type": "code",
   "execution_count": 12,
   "metadata": {},
   "outputs": [
    {
     "name": "stdout",
     "output_type": "stream",
     "text": [
      "mean=[18.00 54.00 54.00]\n"
     ]
    }
   ],
   "source": [
    "# c\n",
    "mean2 = np.mean(D3,axis=0) \n",
    "print(f'mean={mean2}')"
   ]
  },
  {
   "cell_type": "code",
   "execution_count": 13,
   "metadata": {},
   "outputs": [
    {
     "name": "stdout",
     "output_type": "stream",
     "text": [
      "Z = \n",
      "[[-8.00 6.00 36.00]\n",
      " [2.00 -4.00 16.00]\n",
      " [12.00 -4.00 -14.00]\n",
      " [2.00 -4.00 6.00]\n",
      " [-8.00 6.00 -44.00]]\n"
     ]
    }
   ],
   "source": [
    "# d\n",
    "Z = D3 - mean2\n",
    "print(f'Z = \\n{Z}')"
   ]
  },
  {
   "cell_type": "code",
   "execution_count": 14,
   "metadata": {},
   "outputs": [
    {
     "name": "stdout",
     "output_type": "stream",
     "text": [
      "cov = \n",
      "[[56.00 -32.00 -12.00]\n",
      " [-32.00 24.00 -16.00]\n",
      " [-12.00 -16.00 744.00]]\n"
     ]
    }
   ],
   "source": [
    "# e\n",
    "n = Z.shape[0]\n",
    "cov = Z.T.dot(Z)/n \n",
    "print(f'cov = \\n{cov}')"
   ]
  },
  {
   "cell_type": "code",
   "execution_count": 15,
   "metadata": {},
   "outputs": [
    {
     "name": "stdout",
     "output_type": "stream",
     "text": [
      "eigenvalues = [744.54 75.77 3.69]\n",
      "eigenvectors =\n",
      " [[-0.02 0.85 -0.53]\n",
      " [-0.02 -0.53 -0.85]\n",
      " [1.00 0.00 -0.03]]\n"
     ]
    }
   ],
   "source": [
    "# f\n",
    "eigenvals,eigenvecs = np.linalg.eig(cov)\n",
    "sort_idx = np.argsort(eigenvals)[::-1]\n",
    "eigenvals = eigenvals[sort_idx]\n",
    "eigenvecs = eigenvecs[:,sort_idx]\n",
    "print(f'eigenvalues = {eigenvals}')\n",
    "print(f'eigenvectors =\\n {eigenvecs}')"
   ]
  },
  {
   "cell_type": "code",
   "execution_count": 16,
   "metadata": {},
   "outputs": [
    {
     "name": "stdout",
     "output_type": "stream",
     "text": [
      "result of decomposition of matrix = \n",
      "[[56.00 -32.00 -12.00]\n",
      " [-32.00 24.00 -16.00]\n",
      " [-12.00 -16.00 744.00]]\n"
     ]
    }
   ],
   "source": [
    "# g\n",
    "diag_lambda = np.diag(eigenvals)\n",
    "decomp = eigenvecs.dot(diag_lambda).dot(eigenvecs.T)\n",
    "print(f'result of decomposition of matrix = \\n{decomp}')"
   ]
  },
  {
   "cell_type": "code",
   "execution_count": 17,
   "metadata": {},
   "outputs": [
    {
     "name": "stdout",
     "output_type": "stream",
     "text": [
      "explained variance of first eigenvector = 0.90\n"
     ]
    }
   ],
   "source": [
    "# h \n",
    "total_variance = np.sum(eigenvals)\n",
    "fst_exp_var = eigenvals[0]/total_variance\n",
    "print(f'explained variance of first eigenvector = {float_formatter(fst_exp_var)}')\n",
    "# 90% is good enough"
   ]
  },
  {
   "cell_type": "code",
   "execution_count": 18,
   "metadata": {},
   "outputs": [
    {
     "name": "stdout",
     "output_type": "stream",
     "text": [
      "P =\n",
      " [[-0.02 0.85]\n",
      " [-0.02 -0.53]\n",
      " [1.00 0.00]]\n"
     ]
    }
   ],
   "source": [
    "# i\n",
    "P = eigenvecs[:,:2]\n",
    "print(f'P =\\n {P}')"
   ]
  },
  {
   "cell_type": "code",
   "execution_count": 19,
   "metadata": {},
   "outputs": [
    {
     "name": "stdout",
     "output_type": "stream",
     "text": [
      "D2 = \n",
      "[[88.51 -22.84]\n",
      " [68.57 -9.13]\n",
      " [38.42 -0.70]\n",
      " [58.58 -9.15]\n",
      " [8.54 -23.05]]\n"
     ]
    }
   ],
   "source": [
    "# j\n",
    "D2 = D3.dot(P)\n",
    "print(f'D2 = \\n{D2}')"
   ]
  },
  {
   "cell_type": "code",
   "execution_count": 20,
   "metadata": {},
   "outputs": [
    {
     "data": {
      "image/png": "[encoded data removed]",
      "text/plain": [
       "<matplotlib.figure.Figure at 0x7fc97d202d30>"
      ]
     },
     "metadata": {},
     "output_type": "display_data"
    }
   ],
   "source": [
    "# k\n",
    "plt.scatter(D2[:,0],D2[:,1])\n",
    "plt.xlabel('$x_1$')\n",
    "plt.ylabel('$x_2$')\n",
    "plt.show()"
   ]
  },
  {
   "cell_type": "markdown",
   "metadata": {},
   "source": [
    "### part 4"
   ]
  },
  {
   "cell_type": "code",
   "execution_count": 21,
   "metadata": {},
   "outputs": [
    {
     "name": "stdout",
     "output_type": "stream",
     "text": [
      "mean = [1.84 2.92 1.96]\n",
      "\n",
      "\n",
      "Z = \n",
      "[[-1.34 1.58 0.54]\n",
      " [0.36 -1.42 -1.86]\n",
      " [2.06 0.58 -0.86]\n",
      " [0.26 -1.02 2.94]\n",
      " [-1.34 0.28 -0.76]]\n",
      "\n",
      "\n",
      "cov = \n",
      "[[1.61 -0.41 -0.28]\n",
      " [-0.41 1.19 -0.04]\n",
      " [-0.28 -0.04 2.74]]\n",
      "\n",
      "\n"
     ]
    }
   ],
   "source": [
    "X = np.array([[0.5,4.5,2.5],\n",
    "              [2.2,1.5,.1],\n",
    "              [3.9,3.5,1.1],\n",
    "              [2.1,1.9,4.9],\n",
    "              [.5,3.2,1.2]])\n",
    "\n",
    "mean = np.mean(X,axis=0)\n",
    "# A\n",
    "Z = X - mean\n",
    "n = Z.shape[0] \n",
    "cov = (1/n)*Z.T.dot(Z)\n",
    "print(f'mean = {mean}\\n\\n')\n",
    "print(f'Z = \\n{Z}\\n\\n')\n",
    "print(f'cov = \\n{cov}\\n\\n')"
   ]
  },
  {
   "cell_type": "markdown",
   "metadata": {},
   "source": [
    "$$\\lambda_a - 0.0505 \\lambda_b = 0$$\n",
    "$$\\lambda_b - 0.647 \\lambda_c = 0$$\n",
    "$sum of eigenvalues = sum of main diagonal of matrix = 5.424$\n",
    "$$\\lambda_a + \\lambda_b + \\lambda_c = 5.5424 $$\n",
    "$$\n",
    "\\begin{bmatrix}\n",
    "    1       & 1 & 1 &  \\\\\n",
    "    1       & -0.505 & 0 \\\\\n",
    "    0       & 1 & -0.647\n",
    "\\end{bmatrix}\n",
    "\\begin{bmatrix}\n",
    "   \\lambda_a \\\\\n",
    "    \\lambda_b \\\\\n",
    "    \\lambda_c\n",
    "\\end{bmatrix}\n",
    "=\n",
    "\\begin{bmatrix}\n",
    "   5.5424 \\\\\n",
    "    0 \\\\\n",
    "    0\n",
    "\\end{bmatrix}\n",
    "$$\n",
    "$$\\lambda_a = 0.91749706$$\n",
    "$$\\lambda_b = 1.81682587$$\n",
    "$$\\lambda_c = 2.80807707$$"
   ]
  },
  {
   "cell_type": "code",
   "execution_count": 22,
   "metadata": {},
   "outputs": [
    {
     "name": "stdout",
     "output_type": "stream",
     "text": [
      "explained variance using lambda a and b = 0.83\n"
     ]
    }
   ],
   "source": [
    "# solving the above matrix equation for lambdas\n",
    "A = np.array([[1,1,1],[1,-.505,0],[0,1,-.647]])\n",
    "C = np.array([5.5424,0,0])\n",
    "eigenvals = np.linalg.inv(A).dot(C)\n",
    "exp_var = (eigenvals[1]+eigenvals[2])/np.sum(eigenvals)\n",
    "print(f'explained variance using lambda a and b = {float_formatter(exp_var)}')\n"
   ]
  }
 ],
 "metadata": {
  "kernelspec": {
   "display_name": "Python 3",
   "language": "python",
   "name": "python3"
  },
  "language_info": {
   "codemirror_mode": {
    "name": "ipython",
    "version": 3
   },
   "file_extension": ".py",
   "mimetype": "text/x-python",
   "name": "python",
   "nbconvert_exporter": "python",
   "pygments_lexer": "ipython3",
   "version": "3.6.3"
  }
 },
 "nbformat": 4,
 "nbformat_minor": 2
}
