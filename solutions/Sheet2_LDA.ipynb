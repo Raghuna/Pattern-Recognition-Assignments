{
 "cells": [
  {
   "cell_type": "code",
   "execution_count": 26,
   "metadata": {
    "collapsed": true
   },
   "outputs": [],
   "source": [
    "import numpy as np\n",
    "from numpy import linalg as LA\n",
    "import matplotlib.pyplot as plt\n",
    "from sklearn.metrics.pairwise import cosine_similarity\n",
    "from sklearn.metrics.pairwise import euclidean_distances\n",
    "from mpl_toolkits.mplot3d import Axes3D\n",
    "%matplotlib inline\n",
    "# set formatting options\n",
    "float_formatter = lambda x: \"%.4f\" % x\n",
    "np.set_printoptions(formatter={'float_kind':float_formatter})\n"
   ]
  },
  {
   "cell_type": "code",
   "execution_count": 27,
   "metadata": {
    "collapsed": true
   },
   "outputs": [],
   "source": [
    "# imports and utils\n",
    "\n",
    "\n",
    "def plot_line(vec, intercept, x_lo=0, x_hi=10):\n",
    "    m = vec[1]/vec[0]\n",
    "    x = np.linspace(x_lo, x_hi)\n",
    "    y = m * x + intercept\n",
    "    plt.plot(x, y, 'k-')\n",
    "    \n",
    "def sorted_eig(mat, desc=False):\n",
    "    eigenvals, eigenvecs = LA.eig(mat)\n",
    "    idx = np.argsort(eigenvals)\n",
    "    if(desc):\n",
    "        idx = idx[::-1]\n",
    "    return eigenvals[idx], eigenvecs[:,idx]\n",
    "\n",
    "def two_class_LDA(data, labels, label_space=[-1,1], verbose=True, plot=False, S_inv=None):\n",
    "    \n",
    "    \n",
    "    data_1 = data[labels==label_space[0]]\n",
    "    data_2 = data[labels==label_space[1]]\n",
    "    if verbose:\n",
    "        print(f'data1=\\n{data_1}\\ndata2=\\n{data_2}')\n",
    "    mu_1 = np.mean(data_1, axis=0)\n",
    "    mu_2 = np.mean(data_2, axis=0)\n",
    "    mu_1 = np.expand_dims(mu_1, axis=1) # convert array to column vector\n",
    "    mu_2 = np.expand_dims(mu_2, axis=1)\n",
    "    diff = mu_1 - mu_2\n",
    "    B = (diff).dot(diff.T)\n",
    "    Z_1, Z_2, S_1, S_2, S = None, None, None, None, None\n",
    "    \n",
    "    if verbose:\n",
    "        print(f'mu_1 = \\n{mu_1}\\nmu_2=\\n{mu_2}\\nB=\\n{B}\\nmu_1 - mu_2=\\n{diff}')\n",
    "        \n",
    "    \n",
    "    if S_inv is None:\n",
    "        Z_1 = data_1 - mu_1.T\n",
    "        Z_2 = data_2 - mu_2.T\n",
    "\n",
    "        S_1 = Z_1.T.dot(Z_1)\n",
    "        S_2 = Z_2.T.dot(Z_2)\n",
    "        \n",
    "        S = S_1 + S_2\n",
    "        if verbose:\n",
    "            print(f'Z_1=\\n{Z_1}\\nZ_2=\\n{Z_2}\\nS_1=\\n{S_1}\\nS_2=\\n{S_2}\\nS=\\n{S}')\n",
    "        S_inv = LA.pinv(S)\n",
    "        \n",
    "            \n",
    "    eigenvals, eigenvecs = sorted_eig(B.dot(S_inv))\n",
    "        \n",
    "    w = eigenvecs[:,-1]\n",
    "    \n",
    "    if verbose:\n",
    "        print(f'eigenvals=\\n{eigenvals}\\neigenvecs=\\n{eigenvecs}\\nw=\\n{w}')\n",
    "    if plot:\n",
    "        plt.scatter(data_1[:,0],data_1[:,1],marker='x')\n",
    "        plt.scatter(data_2[:,0],data_2[:,1],marker='o')\n",
    "        \n",
    "    intermediates = {'mu_1':mu_1, 'mu_2':mu_2, 'B':B, 'Z_1':Z_1,\n",
    "                     'Z_2':Z_2, 'S':S, 'S_1':S_1, 'S_2':S_2, \n",
    "                     'eigenvals':eigenvals, 'eigenvecs':eigenvecs,\n",
    "                     'data_1':data_1, 'data_2':data_2  }\n",
    "    return w, intermediates"
   ]
  },
  {
   "cell_type": "markdown",
   "metadata": {},
   "source": [
    "## Orthognal Projection"
   ]
  },
  {
   "cell_type": "code",
   "execution_count": 28,
   "metadata": {},
   "outputs": [
    {
     "name": "stdout",
     "output_type": "stream",
     "text": [
      "u1.u2 = 0\n",
      "projection on u1 = [18.0000 24.0000 0.0000]\n",
      "projection on u2 = [12.0000 -9.0000 -0.0000]\n"
     ]
    }
   ],
   "source": [
    "u1, u2, y = np.array([3,4,0]), np.array([-4,3,0]), np.array([6,3,-2])\n",
    "print(f'u1.u2 = {u1.dot(u2)}')\n",
    "print(f'projection on u1 = {(y.dot(u1))*(u1/LA.norm(u1))}')\n",
    "print(f'projection on u2 = {(y.dot(u2))*(u2/LA.norm(u2))}')"
   ]
  },
  {
   "cell_type": "markdown",
   "metadata": {},
   "source": [
    "$proj(y,u_1) = \\begin{bmatrix}\n",
    "   18.00 \\\\ 24.00 \\\\ 0.00\n",
    "\\end{bmatrix}$\n",
    "\n",
    "$proj(y,u_2) = \\begin{bmatrix}\n",
    "   12.00 \\\\ -9.00 \\\\ 0.00\n",
    "\\end{bmatrix}$"
   ]
  },
  {
   "cell_type": "markdown",
   "metadata": {},
   "source": [
    "## LDA"
   ]
  },
  {
   "cell_type": "markdown",
   "metadata": {},
   "source": [
    "### Question 2"
   ]
  },
  {
   "cell_type": "code",
   "execution_count": 29,
   "metadata": {},
   "outputs": [
    {
     "name": "stdout",
     "output_type": "stream",
     "text": [
      "data1=\n",
      "[[2 3]\n",
      " [3 3]\n",
      " [3 4]\n",
      " [5 8]\n",
      " [7 7]]\n",
      "data2=\n",
      "[[5 4]\n",
      " [6 5]\n",
      " [7 4]\n",
      " [7 5]\n",
      " [8 2]\n",
      " [9 4]]\n",
      "mu_1 = \n",
      "[[4.0000]\n",
      " [5.0000]]\n",
      "mu_2=\n",
      "[[7.0000]\n",
      " [4.0000]]\n",
      "B=\n",
      "[[9.0000 -3.0000]\n",
      " [-3.0000 1.0000]]\n",
      "mu_1 - mu_2=\n",
      "[[-3.0000]\n",
      " [1.0000]]\n",
      "eigenvals=\n",
      "[0.0000 0.4520]\n",
      "eigenvecs=\n",
      "[[-0.5765 0.9487]\n",
      " [0.8171 -0.3162]]\n",
      "w=\n",
      "[0.9487 -0.3162]\n"
     ]
    },
    {
     "data": {
      "image/png": "[encoded data removed]",
      "text/plain": [
       "<matplotlib.figure.Figure at 0x7f2834993828>"
      ]
     },
     "metadata": {},
     "output_type": "display_data"
    }
   ],
   "source": [
    "data2 = np.array([[2,3],\n",
    "                [3,3],\n",
    "                [3,4],\n",
    "                [5,8],\n",
    "                [7,7],\n",
    "                [5,4],\n",
    "                [6,5],\n",
    "                [7,4],\n",
    "                [7,5],\n",
    "                [8,2],\n",
    "                [9,4]])\n",
    "labels2 = np.array([-1,-1,-1,-1,-1,1,1,1,1,1,1])\n",
    "S_inv = np.array([[0.056,.029],[-.029,-.052]])\n",
    "w2, intermediates2 = two_class_LDA(data2, labels2, S_inv=S_inv, plot=True)\n",
    "plot_line(w2,0)\n"
   ]
  },
  {
   "cell_type": "markdown",
   "metadata": {},
   "source": [
    "$$\\boldsymbol{\\mu_{-1}}  = \\begin{bmatrix}\n",
    "    4.00 \\\\ 5.00\n",
    "\\end{bmatrix}$$\n",
    "\n",
    "$$ \\boldsymbol{\\mu_1}  = \\begin{bmatrix}\n",
    "   7.00 \\\\ 4.00\n",
    "\\end{bmatrix}$$\n",
    "\n",
    "$$\\boldsymbol{B}  = \\begin{bmatrix}\n",
    "   9.00 & -3.00\\\\\n",
    "   -3.00 & 1.00\n",
    "\\end{bmatrix}$$\n",
    "\n",
    "$$\\boldsymbol{w}  = \\begin{bmatrix}\n",
    "    0.82 \\\\ -0.58\n",
    "\\end{bmatrix}$$"
   ]
  },
  {
   "cell_type": "markdown",
   "metadata": {},
   "source": [
    "### Question 3"
   ]
  },
  {
   "cell_type": "code",
   "execution_count": 30,
   "metadata": {},
   "outputs": [
    {
     "name": "stdout",
     "output_type": "stream",
     "text": [
      "data1=\n",
      "[[2.5000 1.0000]\n",
      " [2.0000 2.1000]]\n",
      "data2=\n",
      "[[4.0000 2.9000]\n",
      " [3.5000 4.0000]]\n",
      "mu_1 = \n",
      "[[2.2500]\n",
      " [1.5500]]\n",
      "mu_2=\n",
      "[[3.7500]\n",
      " [3.4500]]\n",
      "B=\n",
      "[[2.2500 2.8500]\n",
      " [2.8500 3.6100]]\n",
      "mu_1 - mu_2=\n",
      "[[-1.5000]\n",
      " [-1.9000]]\n",
      "Z_1=\n",
      "[[0.2500 -0.5500]\n",
      " [-0.2500 0.5500]]\n",
      "Z_2=\n",
      "[[0.2500 -0.5500]\n",
      " [-0.2500 0.5500]]\n",
      "S_1=\n",
      "[[0.1250 -0.2750]\n",
      " [-0.2750 0.6050]]\n",
      "S_2=\n",
      "[[0.1250 -0.2750]\n",
      " [-0.2750 0.6050]]\n",
      "S=\n",
      "[[0.2500 -0.5500]\n",
      " [-0.5500 1.2100]]\n",
      "eigenvals=\n",
      "[0.0000 0.8424]\n",
      "eigenvecs=\n",
      "[[-0.9104 -0.6196]\n",
      " [-0.4138 -0.7849]]\n",
      "w=\n",
      "[-0.6196 -0.7849]\n",
      "seperator = \n",
      "[2.4804 3.1418]\n"
     ]
    },
    {
     "data": {
      "image/png": "[encoded data removed]",
      "text/plain": [
       "<matplotlib.figure.Figure at 0x7f28349a1a90>"
      ]
     },
     "metadata": {},
     "output_type": "display_data"
    }
   ],
   "source": [
    "data3 = np.array([[4,2.9],\n",
    "                  [3.5,4],\n",
    "                  [2.5,1],\n",
    "                  [2,2.1]])\n",
    "labels3 = np.array([1,1,-1,-1])\n",
    "\n",
    "\n",
    "w3, intermediates3 = two_class_LDA(data3,labels3, plot=True)\n",
    "mu_1,mu_2 = intermediates3['mu_1'], intermediates3['mu_2']\n",
    "plot_line(w3,0)\n",
    "means = np.hstack((mu_1, mu_2)) # stack column vectors horizontally\n",
    "mean_of_means = np.mean(means,axis=0, keepdims=True) # compute mean accross rows\n",
    "seperator = w3*mean_of_means.dot(w3)\n",
    "plt.scatter(seperator[0], seperator[1])\n",
    "print(f'seperator = \\n{seperator}')\n",
    "plt.show()"
   ]
  },
  {
   "cell_type": "markdown",
   "metadata": {},
   "source": [
    "$$\\boldsymbol{B}  = \\begin{bmatrix}\n",
    "    2.25 & 2.85  \\\\\n",
    "    2.85 & 3.61 \\\\\n",
    "\\end{bmatrix}$$\n",
    "\n",
    "$$ \\boldsymbol{S_{-1}}  = \\begin{bmatrix}\n",
    "    0.13 & -0.28  \\\\\n",
    "    -0.28 & 0.61 \\\\\n",
    "\\end{bmatrix}$$\n",
    "\n",
    "$$\\boldsymbol{S_1}  = \\begin{bmatrix}\n",
    "  0.13 & -0.28  \\\\\n",
    "   -0.28 & 0.61 \\\\\n",
    "\\end{bmatrix}$$\n",
    "\n",
    "$$\\boldsymbol{S}  = \\begin{bmatrix}\n",
    "    0.25 & -0.55  \\\\\n",
    "    -0.55 & 1.21 \\\\\n",
    "\\end{bmatrix}$$\n",
    "\n",
    "$$\\boldsymbol{w}  = \\begin{bmatrix}\n",
    "   -0.62 \\\\ -0.78\n",
    "\\end{bmatrix}$$\n",
    "The point best seperating the two classes\n",
    "$$ \\begin{bmatrix}\n",
    "   2.3677 \\\\ 2.9991\n",
    "\\end{bmatrix}$$\n"
   ]
  },
  {
   "cell_type": "markdown",
   "metadata": {},
   "source": [
    "### Question 4"
   ]
  },
  {
   "cell_type": "code",
   "execution_count": 31,
   "metadata": {},
   "outputs": [
    {
     "name": "stdout",
     "output_type": "stream",
     "text": [
      "data1=\n",
      "[[2 2]\n",
      " [3 2]]\n",
      "data2=\n",
      "[[1 1]\n",
      " [2 1]\n",
      " [1 2]]\n",
      "mu_1 = \n",
      "[[2.5000]\n",
      " [2.0000]]\n",
      "mu_2=\n",
      "[[1.3333]\n",
      " [1.3333]]\n",
      "B=\n",
      "[[1.3611 0.7778]\n",
      " [0.7778 0.4444]]\n",
      "mu_1 - mu_2=\n",
      "[[1.1667]\n",
      " [0.6667]]\n",
      "Z_1=\n",
      "[[-0.5000 0.0000]\n",
      " [0.5000 0.0000]]\n",
      "Z_2=\n",
      "[[-0.3333 -0.3333]\n",
      " [0.6667 -0.3333]\n",
      " [-0.3333 0.6667]]\n",
      "S_1=\n",
      "[[0.5000 0.0000]\n",
      " [0.0000 0.0000]]\n",
      "S_2=\n",
      "[[0.6667 -0.3333]\n",
      " [-0.3333 0.6667]]\n",
      "S=\n",
      "[[1.1667 -0.3333]\n",
      " [-0.3333 0.6667]]\n",
      "eigenvals=\n",
      "[0.0000 2.9167]\n",
      "eigenvecs=\n",
      "[[-0.7593 0.8682]\n",
      " [0.6508 0.4961]]\n",
      "w=\n",
      "[0.8682 0.4961]\n"
     ]
    },
    {
     "data": {
      "image/png": "[encoded data removed]",
      "text/plain": [
       "<matplotlib.figure.Figure at 0x7f28346579e8>"
      ]
     },
     "metadata": {},
     "output_type": "display_data"
    }
   ],
   "source": [
    "data4 = np.array([[1,1],\n",
    "                  [2,1],\n",
    "                  [1,2],\n",
    "                  [2,2],\n",
    "                  [3,2]])\n",
    "labels4 = np.array([1,1,1,-1,-1])\n",
    "w4, intermediates4 = two_class_LDA(data4, labels4, plot=True)\n",
    "plot_line(w4, 0)"
   ]
  },
  {
   "cell_type": "markdown",
   "metadata": {},
   "source": [
    "$$\\boldsymbol{B}  = \\begin{bmatrix}\n",
    "    1.3611 & 0.7778 \\\\\n",
    "    0.7778 & 0.4444\n",
    "\\end{bmatrix}$$\n",
    "\n",
    "$$ \\boldsymbol{S_{-1}}  = \\begin{bmatrix}\n",
    "    0.5000 & 0.0000\\\\\n",
    "     0.0000 & 0.0000\n",
    "\\end{bmatrix}$$\n",
    "\n",
    "$$\\boldsymbol{S_1}  = \\begin{bmatrix}\n",
    "    0.6667 && -0.3333\\\\\n",
    "    -0.3333 && 0.6667 \\\\\n",
    "\\end{bmatrix}$$\n",
    "\n",
    "$$\\boldsymbol{S}  = \\begin{bmatrix}\n",
    "  1.1667 && -0.3333\\\\\n",
    " -0.3333 && 0.6667\n",
    "\\end{bmatrix}$$\n",
    "\n",
    "$$\\boldsymbol{w}  = \\begin{bmatrix}\n",
    "  0.8682 \\\\ 0.4961\n",
    "\\end{bmatrix}$$\n"
   ]
  }
 ],
 "metadata": {
  "kernelspec": {
   "display_name": "Python 3",
   "language": "python",
   "name": "python3"
  },
  "language_info": {
   "codemirror_mode": {
    "name": "ipython",
    "version": 3
   },
   "file_extension": ".py",
   "mimetype": "text/x-python",
   "name": "python",
   "nbconvert_exporter": "python",
   "pygments_lexer": "ipython3",
   "version": "3.6.3"
  }
 },
 "nbformat": 4,
 "nbformat_minor": 2
}
